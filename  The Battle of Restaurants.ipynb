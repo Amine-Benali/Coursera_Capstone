{
 "cells": [
  {
   "cell_type": "markdown",
   "metadata": {},
   "source": [
    "# The Battle of Restaurants\n",
    "\n",
    "#### This notebook is used to implement the Coursera Capstone project "
   ]
  },
  {
   "cell_type": "markdown",
   "metadata": {},
   "source": [
    "## 1. Business Problem"
   ]
  },
  {
   "cell_type": "markdown",
   "metadata": {},
   "source": [
    "Jhon is a Restaurant Chain owner and thinks of opening a new restaurant in __Brooklyn__ in __New York__. Jhon wants to know what's the __best__ place for openning a new restaurant in order to maximise his profit and guarentee that the project will be succesful.\n",
    "In order to answer Jhon's question, we will be applying some __Machine Learning__ techniques using __API Foursquare__ location data. Using the API Foursquare location data, we will be able to get the location of all the exisiting restaurants in Brooklyn. We will be even able to get each restaurant's rating and so on. Having all this data about the restaurants in Brooklyn gives us the possibiltiy to apply some Machine Learning algorithms, especially, __Clustering__ algortihms, in order to obtain the similarities that exist between different __neighborhoods__ in Brooklyn concerning restaurants. Having this type of information would help our friend Jhon to decide where should he open his next restaurant depending on the type of services he's willing to offer and the clients he's targetting."
   ]
  },
  {
   "cell_type": "markdown",
   "metadata": {},
   "source": [
    "## 2. Data"
   ]
  },
  {
   "cell_type": "markdown",
   "metadata": {},
   "source": [
    "In this project, we will be using two sources of data. First one is the __New York__ data already used in the previous lab. This Database has a total of __5__ boroughs and __306__ neighborhoods  as well as the the __latitude__ and __longitude__ coordinates of each neighborhood. All this data is stored in a __json__ file, we'll extract from the latter all the data we need and transform it into a __pandas DataFrame__. Now that we have all the data we need, reprensented in a pandas DataFrame, its manipulation will become easier. First of all, our friend Jhon is interested in opening a restaurant, exactly, in Brooklyn so for the rest of the project we will only focus on the neighborhoods that are situated in Brooklyn borough. Here, we will use our second data source, the API Foursquare location data. Using the latter, we will be able to explore all the neighborhoods in Brooklyn and get the different avenues situated within a determined radius as well as the avenues category and rating. After collecting all this data, we can manipulate it as we like in order to give Jhon an answer to his question __\"Where should I open my next restaurant in Brooklyn ?\"__. This manipulation is often done using Machine Learning techniques. In our case, we will be using Clustering algorithms to do so."
   ]
  },
  {
   "cell_type": "code",
   "execution_count": null,
   "metadata": {},
   "outputs": [],
   "source": []
  }
 ],
 "metadata": {
  "kernelspec": {
   "display_name": "Python 3",
   "language": "python",
   "name": "python3"
  },
  "language_info": {
   "codemirror_mode": {
    "name": "ipython",
    "version": 3
   },
   "file_extension": ".py",
   "mimetype": "text/x-python",
   "name": "python",
   "nbconvert_exporter": "python",
   "pygments_lexer": "ipython3",
   "version": "3.8.6"
  }
 },
 "nbformat": 4,
 "nbformat_minor": 4
}
